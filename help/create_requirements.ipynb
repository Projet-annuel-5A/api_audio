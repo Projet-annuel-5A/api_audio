{
 "cells": [
  {
   "metadata": {
    "ExecuteTime": {
     "end_time": "2024-05-14T05:17:53.434224Z",
     "start_time": "2024-05-14T05:17:53.420226Z"
    }
   },
   "cell_type": "code",
   "source": "from subprocess import call",
   "id": "97a2cd6dd5819bfa",
   "outputs": [],
   "execution_count": 2
  },
  {
   "cell_type": "code",
   "id": "c2b19925cd2fec90",
   "metadata": {
    "collapsed": true,
    "ExecuteTime": {
     "end_time": "2024-05-14T05:20:07.647494Z",
     "start_time": "2024-05-14T05:20:07.091191Z"
    }
   },
   "source": [
    "call('python -m pigar gen -f ./steps/audio/requirements.txt ./steps/audio/ --question-answer=no', shell=True)\n",
    "call('python -m pigar gen -f ./steps/video/requirements.txt ./steps/video/ --question-answer=no', shell=True)\n",
    "call('python -m pigar gen -f ./steps/text/requirements.txt ./steps/text/ --question-answer=no', shell=True)\n",
    "call('python -m pigar gen -f ./steps/middleware/requirements.txt ./steps/middleware/ --question-answer=no', shell=True)\n",
    "call('python -m pigar gen -f ./requirements.txt ./ --question-answer=no', shell=True)"
   ],
   "outputs": [
    {
     "data": {
      "text/plain": [
       "2"
      ]
     },
     "execution_count": 4,
     "metadata": {},
     "output_type": "execute_result"
    }
   ],
   "execution_count": 4
  }
 ],
 "metadata": {
  "kernelspec": {
   "display_name": "Python 3",
   "language": "python",
   "name": "python3"
  },
  "language_info": {
   "codemirror_mode": {
    "name": "ipython",
    "version": 2
   },
   "file_extension": ".py",
   "mimetype": "text/x-python",
   "name": "python",
   "nbconvert_exporter": "python",
   "pygments_lexer": "ipython2",
   "version": "2.7.6"
  }
 },
 "nbformat": 4,
 "nbformat_minor": 5
}
