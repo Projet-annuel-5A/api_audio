{
 "cells": [
  {
   "cell_type": "code",
   "id": "ff99b66f3fe989d0",
   "metadata": {
    "collapsed": true,
    "ExecuteTime": {
     "end_time": "2024-05-14T14:26:03.648875Z",
     "start_time": "2024-05-14T14:26:03.404109Z"
    }
   },
   "source": "import pandas as pd",
   "outputs": [],
   "execution_count": 1
  },
  {
   "metadata": {
    "ExecuteTime": {
     "end_time": "2024-05-14T14:26:03.652679Z",
     "start_time": "2024-05-14T14:26:03.649881Z"
    }
   },
   "cell_type": "code",
   "source": "results_path = '../files/1/2/output/results_speaker_000.h5'",
   "id": "9ffda87e0a8fdb9f",
   "outputs": [],
   "execution_count": 2
  },
  {
   "metadata": {
    "ExecuteTime": {
     "end_time": "2024-05-14T14:26:06.422167Z",
     "start_time": "2024-05-14T14:26:05.088752Z"
    }
   },
   "cell_type": "code",
   "source": [
    "audio = pd.read_hdf(results_path, key='audio')\n",
    "video = pd.read_hdf(results_path, key='video')\n",
    "texts = pd.read_hdf(results_path, key='text')\n",
    "\n",
    "all = pd.read_hdf(results_path, key='all')"
   ],
   "id": "c3e9b598d81d3ed9",
   "outputs": [],
   "execution_count": 3
  },
  {
   "metadata": {
    "ExecuteTime": {
     "end_time": "2024-05-14T14:26:07.512863Z",
     "start_time": "2024-05-14T14:26:07.505203Z"
    }
   },
   "cell_type": "code",
   "source": "audio",
   "id": "9af5a5e94c799799",
   "outputs": [
    {
     "data": {
      "text/plain": [
       "       speaker        file                                     audio_emotions\n",
       "0  speaker_000  part_00000  {'Neutral': 99.99573, 'Tension': 0.00238, 'Ple...\n",
       "1  speaker_000  part_00001  {'Neutral': 99.96521, 'Tension': 0.02656, 'Ple...\n",
       "2  speaker_000  part_00002  {'Neutral': 98.43364, 'Pleased': 1.5306, 'Tens...\n",
       "3  speaker_000  part_00003  {'Neutral': 99.98154, 'Relaxed': 0.0124, 'Sad'..."
      ],
      "text/html": [
       "<div>\n",
       "<style scoped>\n",
       "    .dataframe tbody tr th:only-of-type {\n",
       "        vertical-align: middle;\n",
       "    }\n",
       "\n",
       "    .dataframe tbody tr th {\n",
       "        vertical-align: top;\n",
       "    }\n",
       "\n",
       "    .dataframe thead th {\n",
       "        text-align: right;\n",
       "    }\n",
       "</style>\n",
       "<table border=\"1\" class=\"dataframe\">\n",
       "  <thead>\n",
       "    <tr style=\"text-align: right;\">\n",
       "      <th></th>\n",
       "      <th>speaker</th>\n",
       "      <th>file</th>\n",
       "      <th>audio_emotions</th>\n",
       "    </tr>\n",
       "  </thead>\n",
       "  <tbody>\n",
       "    <tr>\n",
       "      <th>0</th>\n",
       "      <td>speaker_000</td>\n",
       "      <td>part_00000</td>\n",
       "      <td>{'Neutral': 99.99573, 'Tension': 0.00238, 'Ple...</td>\n",
       "    </tr>\n",
       "    <tr>\n",
       "      <th>1</th>\n",
       "      <td>speaker_000</td>\n",
       "      <td>part_00001</td>\n",
       "      <td>{'Neutral': 99.96521, 'Tension': 0.02656, 'Ple...</td>\n",
       "    </tr>\n",
       "    <tr>\n",
       "      <th>2</th>\n",
       "      <td>speaker_000</td>\n",
       "      <td>part_00002</td>\n",
       "      <td>{'Neutral': 98.43364, 'Pleased': 1.5306, 'Tens...</td>\n",
       "    </tr>\n",
       "    <tr>\n",
       "      <th>3</th>\n",
       "      <td>speaker_000</td>\n",
       "      <td>part_00003</td>\n",
       "      <td>{'Neutral': 99.98154, 'Relaxed': 0.0124, 'Sad'...</td>\n",
       "    </tr>\n",
       "  </tbody>\n",
       "</table>\n",
       "</div>"
      ]
     },
     "execution_count": 4,
     "metadata": {},
     "output_type": "execute_result"
    }
   ],
   "execution_count": 4
  },
  {
   "metadata": {
    "ExecuteTime": {
     "end_time": "2024-05-14T14:26:12.399099Z",
     "start_time": "2024-05-14T14:26:12.389739Z"
    }
   },
   "cell_type": "code",
   "source": "video",
   "id": "33d6fdc64ca59f87",
   "outputs": [
    {
     "data": {
      "text/plain": [
       "       speaker        file                                     video_emotions\n",
       "0  speaker_000  part_00000  {'image_00000': {'happy': 47.68815076219111, '...\n",
       "1  speaker_000  part_00001  {'image_00000': {'happy': 40.59302684270346, '...\n",
       "2  speaker_000  part_00002  {'image_00000': {'happy': 31.19185946047087, '...\n",
       "3  speaker_000  part_00003  {'image_00000': {'neutral': 45.15804393621573,..."
      ],
      "text/html": [
       "<div>\n",
       "<style scoped>\n",
       "    .dataframe tbody tr th:only-of-type {\n",
       "        vertical-align: middle;\n",
       "    }\n",
       "\n",
       "    .dataframe tbody tr th {\n",
       "        vertical-align: top;\n",
       "    }\n",
       "\n",
       "    .dataframe thead th {\n",
       "        text-align: right;\n",
       "    }\n",
       "</style>\n",
       "<table border=\"1\" class=\"dataframe\">\n",
       "  <thead>\n",
       "    <tr style=\"text-align: right;\">\n",
       "      <th></th>\n",
       "      <th>speaker</th>\n",
       "      <th>file</th>\n",
       "      <th>video_emotions</th>\n",
       "    </tr>\n",
       "  </thead>\n",
       "  <tbody>\n",
       "    <tr>\n",
       "      <th>0</th>\n",
       "      <td>speaker_000</td>\n",
       "      <td>part_00000</td>\n",
       "      <td>{'image_00000': {'happy': 47.68815076219111, '...</td>\n",
       "    </tr>\n",
       "    <tr>\n",
       "      <th>1</th>\n",
       "      <td>speaker_000</td>\n",
       "      <td>part_00001</td>\n",
       "      <td>{'image_00000': {'happy': 40.59302684270346, '...</td>\n",
       "    </tr>\n",
       "    <tr>\n",
       "      <th>2</th>\n",
       "      <td>speaker_000</td>\n",
       "      <td>part_00002</td>\n",
       "      <td>{'image_00000': {'happy': 31.19185946047087, '...</td>\n",
       "    </tr>\n",
       "    <tr>\n",
       "      <th>3</th>\n",
       "      <td>speaker_000</td>\n",
       "      <td>part_00003</td>\n",
       "      <td>{'image_00000': {'neutral': 45.15804393621573,...</td>\n",
       "    </tr>\n",
       "  </tbody>\n",
       "</table>\n",
       "</div>"
      ]
     },
     "execution_count": 5,
     "metadata": {},
     "output_type": "execute_result"
    }
   ],
   "execution_count": 5
  },
  {
   "metadata": {
    "ExecuteTime": {
     "end_time": "2024-05-14T14:26:16.498625Z",
     "start_time": "2024-05-14T14:26:16.492728Z"
    }
   },
   "cell_type": "code",
   "source": "texts",
   "id": "15c72f7a88583e36",
   "outputs": [
    {
     "data": {
      "text/plain": [
       "       speaker        file                                               text  \\\n",
       "0  speaker_000  part_00000  Alors moi, je vivais à Montréal. Donc on était...   \n",
       "1  speaker_000  part_00001  C'est vrai que j'avais senti qu'il fallait que...   \n",
       "2  speaker_000  part_00002             Oui, moi aussi, j'aime le petit chien.   \n",
       "3  speaker_000  part_00003                   Ouais, 14%, ça m'a l'air faible.   \n",
       "\n",
       "                                       text_emotions  \n",
       "0  {'nostalgia': 99.1863, 'despair': 0.04468, 'sa...  \n",
       "1  {'trust': 4.79831, 'approval': 4.15277, 'desir...  \n",
       "2  {'approval': 99.98901, 'amusement': 95.2659, '...  \n",
       "3  {'doubt': 82.23456, 'disapproval': 40.31719, '...  "
      ],
      "text/html": [
       "<div>\n",
       "<style scoped>\n",
       "    .dataframe tbody tr th:only-of-type {\n",
       "        vertical-align: middle;\n",
       "    }\n",
       "\n",
       "    .dataframe tbody tr th {\n",
       "        vertical-align: top;\n",
       "    }\n",
       "\n",
       "    .dataframe thead th {\n",
       "        text-align: right;\n",
       "    }\n",
       "</style>\n",
       "<table border=\"1\" class=\"dataframe\">\n",
       "  <thead>\n",
       "    <tr style=\"text-align: right;\">\n",
       "      <th></th>\n",
       "      <th>speaker</th>\n",
       "      <th>file</th>\n",
       "      <th>text</th>\n",
       "      <th>text_emotions</th>\n",
       "    </tr>\n",
       "  </thead>\n",
       "  <tbody>\n",
       "    <tr>\n",
       "      <th>0</th>\n",
       "      <td>speaker_000</td>\n",
       "      <td>part_00000</td>\n",
       "      <td>Alors moi, je vivais à Montréal. Donc on était...</td>\n",
       "      <td>{'nostalgia': 99.1863, 'despair': 0.04468, 'sa...</td>\n",
       "    </tr>\n",
       "    <tr>\n",
       "      <th>1</th>\n",
       "      <td>speaker_000</td>\n",
       "      <td>part_00001</td>\n",
       "      <td>C'est vrai que j'avais senti qu'il fallait que...</td>\n",
       "      <td>{'trust': 4.79831, 'approval': 4.15277, 'desir...</td>\n",
       "    </tr>\n",
       "    <tr>\n",
       "      <th>2</th>\n",
       "      <td>speaker_000</td>\n",
       "      <td>part_00002</td>\n",
       "      <td>Oui, moi aussi, j'aime le petit chien.</td>\n",
       "      <td>{'approval': 99.98901, 'amusement': 95.2659, '...</td>\n",
       "    </tr>\n",
       "    <tr>\n",
       "      <th>3</th>\n",
       "      <td>speaker_000</td>\n",
       "      <td>part_00003</td>\n",
       "      <td>Ouais, 14%, ça m'a l'air faible.</td>\n",
       "      <td>{'doubt': 82.23456, 'disapproval': 40.31719, '...</td>\n",
       "    </tr>\n",
       "  </tbody>\n",
       "</table>\n",
       "</div>"
      ]
     },
     "execution_count": 6,
     "metadata": {},
     "output_type": "execute_result"
    }
   ],
   "execution_count": 6
  },
  {
   "metadata": {
    "ExecuteTime": {
     "end_time": "2024-05-14T14:26:20.216335Z",
     "start_time": "2024-05-14T14:26:20.205326Z"
    }
   },
   "cell_type": "code",
   "source": "all",
   "id": "cdb49a11180947f1",
   "outputs": [
    {
     "data": {
      "text/plain": [
       "       speaker        file                                               text  \\\n",
       "0  speaker_000  part_00000  Alors moi, je vivais à Montréal. Donc on était...   \n",
       "1  speaker_000  part_00001  C'est vrai que j'avais senti qu'il fallait que...   \n",
       "2  speaker_000  part_00002             Oui, moi aussi, j'aime le petit chien.   \n",
       "3  speaker_000  part_00003                   Ouais, 14%, ça m'a l'air faible.   \n",
       "\n",
       "                                       text_emotions  \\\n",
       "0  {'nostalgia': 99.1863, 'despair': 0.04468, 'sa...   \n",
       "1  {'trust': 4.79831, 'approval': 4.15277, 'desir...   \n",
       "2  {'approval': 99.98901, 'amusement': 95.2659, '...   \n",
       "3  {'doubt': 82.23456, 'disapproval': 40.31719, '...   \n",
       "\n",
       "                                      video_emotions  \\\n",
       "0  {'image_00000': {'happy': 47.68815076219111, '...   \n",
       "1  {'image_00000': {'happy': 40.59302684270346, '...   \n",
       "2  {'image_00000': {'happy': 31.19185946047087, '...   \n",
       "3  {'image_00000': {'neutral': 45.15804393621573,...   \n",
       "\n",
       "                                      audio_emotions  \n",
       "0  {'Neutral': 99.99573, 'Tension': 0.00238, 'Ple...  \n",
       "1  {'Neutral': 99.96521, 'Tension': 0.02656, 'Ple...  \n",
       "2  {'Neutral': 98.43364, 'Pleased': 1.5306, 'Tens...  \n",
       "3  {'Neutral': 99.98154, 'Relaxed': 0.0124, 'Sad'...  "
      ],
      "text/html": [
       "<div>\n",
       "<style scoped>\n",
       "    .dataframe tbody tr th:only-of-type {\n",
       "        vertical-align: middle;\n",
       "    }\n",
       "\n",
       "    .dataframe tbody tr th {\n",
       "        vertical-align: top;\n",
       "    }\n",
       "\n",
       "    .dataframe thead th {\n",
       "        text-align: right;\n",
       "    }\n",
       "</style>\n",
       "<table border=\"1\" class=\"dataframe\">\n",
       "  <thead>\n",
       "    <tr style=\"text-align: right;\">\n",
       "      <th></th>\n",
       "      <th>speaker</th>\n",
       "      <th>file</th>\n",
       "      <th>text</th>\n",
       "      <th>text_emotions</th>\n",
       "      <th>video_emotions</th>\n",
       "      <th>audio_emotions</th>\n",
       "    </tr>\n",
       "  </thead>\n",
       "  <tbody>\n",
       "    <tr>\n",
       "      <th>0</th>\n",
       "      <td>speaker_000</td>\n",
       "      <td>part_00000</td>\n",
       "      <td>Alors moi, je vivais à Montréal. Donc on était...</td>\n",
       "      <td>{'nostalgia': 99.1863, 'despair': 0.04468, 'sa...</td>\n",
       "      <td>{'image_00000': {'happy': 47.68815076219111, '...</td>\n",
       "      <td>{'Neutral': 99.99573, 'Tension': 0.00238, 'Ple...</td>\n",
       "    </tr>\n",
       "    <tr>\n",
       "      <th>1</th>\n",
       "      <td>speaker_000</td>\n",
       "      <td>part_00001</td>\n",
       "      <td>C'est vrai que j'avais senti qu'il fallait que...</td>\n",
       "      <td>{'trust': 4.79831, 'approval': 4.15277, 'desir...</td>\n",
       "      <td>{'image_00000': {'happy': 40.59302684270346, '...</td>\n",
       "      <td>{'Neutral': 99.96521, 'Tension': 0.02656, 'Ple...</td>\n",
       "    </tr>\n",
       "    <tr>\n",
       "      <th>2</th>\n",
       "      <td>speaker_000</td>\n",
       "      <td>part_00002</td>\n",
       "      <td>Oui, moi aussi, j'aime le petit chien.</td>\n",
       "      <td>{'approval': 99.98901, 'amusement': 95.2659, '...</td>\n",
       "      <td>{'image_00000': {'happy': 31.19185946047087, '...</td>\n",
       "      <td>{'Neutral': 98.43364, 'Pleased': 1.5306, 'Tens...</td>\n",
       "    </tr>\n",
       "    <tr>\n",
       "      <th>3</th>\n",
       "      <td>speaker_000</td>\n",
       "      <td>part_00003</td>\n",
       "      <td>Ouais, 14%, ça m'a l'air faible.</td>\n",
       "      <td>{'doubt': 82.23456, 'disapproval': 40.31719, '...</td>\n",
       "      <td>{'image_00000': {'neutral': 45.15804393621573,...</td>\n",
       "      <td>{'Neutral': 99.98154, 'Relaxed': 0.0124, 'Sad'...</td>\n",
       "    </tr>\n",
       "  </tbody>\n",
       "</table>\n",
       "</div>"
      ]
     },
     "execution_count": 7,
     "metadata": {},
     "output_type": "execute_result"
    }
   ],
   "execution_count": 7
  }
 ],
 "metadata": {
  "kernelspec": {
   "display_name": "Python 3",
   "language": "python",
   "name": "python3"
  },
  "language_info": {
   "codemirror_mode": {
    "name": "ipython",
    "version": 2
   },
   "file_extension": ".py",
   "mimetype": "text/x-python",
   "name": "python",
   "nbconvert_exporter": "python",
   "pygments_lexer": "ipython2",
   "version": "2.7.6"
  }
 },
 "nbformat": 4,
 "nbformat_minor": 5
}
